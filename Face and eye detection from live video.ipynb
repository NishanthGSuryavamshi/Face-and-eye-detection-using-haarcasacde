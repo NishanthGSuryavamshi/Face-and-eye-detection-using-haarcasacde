{
 "cells": [
  {
   "cell_type": "code",
   "execution_count": 1,
   "id": "18fc3de4",
   "metadata": {},
   "outputs": [
    {
     "name": "stderr",
     "output_type": "stream",
     "text": [
      "<>:16: SyntaxWarning: \"is\" with a literal. Did you mean \"==\"?\n",
      "<>:16: SyntaxWarning: \"is\" with a literal. Did you mean \"==\"?\n",
      "C:\\Users\\vamsh\\AppData\\Local\\Temp/ipykernel_23196/2075445968.py:16: SyntaxWarning: \"is\" with a literal. Did you mean \"==\"?\n",
      "  if faces is ():\n"
     ]
    }
   ],
   "source": [
    "## face recognition from live videos\n",
    "\n",
    "\n",
    "import numpy\n",
    "import cv2\n",
    "\n",
    "face_classifier=cv2.CascadeClassifier(r'C:\\Users\\vamsh\\Downloads\\Computer-Vision-Tutorial-master (1)\\Computer-Vision-Tutorial-master\\Haarcascades\\haarcascade_frontalface_default.xml')\n",
    "eye_classifier=cv2.CascadeClassifier(r'C:\\Users\\vamsh\\Downloads\\Computer-Vision-Tutorial-master (1)\\Computer-Vision-Tutorial-master\\Haarcascades\\haarcascade_eye.xml')\n",
    "fullbody_classifier=cv2.CascadeClassifier(r'C:\\Users\\vamsh\\Downloads\\Computer-Vision-Tutorial-master (1)\\Computer-Vision-Tutorial-master\\Haarcascades\\haarcascade_fullbody.xml')\n",
    "car_classifier=cv2.CascadeClassifier(r'C:\\Users\\vamsh\\Downloads\\Computer-Vision-Tutorial-master (1)\\Computer-Vision-Tutorial-master\\Haarcascades\\haarcascade_car.xml')\n",
    "\n",
    "\n",
    "def face_detector_live(image,size=.5):\n",
    "    gray=cv2.cvtColor(image,cv2.COLOR_BGR2GRAY)\n",
    "    faces=face_classifier.detectMultiScale(gray,1.3,6)\n",
    "    if faces is ():\n",
    "        return image\n",
    "    for(x,y,w,h) in faces:\n",
    "        x=x-50\n",
    "        w=w+50\n",
    "        y=y-50\n",
    "        h=h+50\n",
    "        cv2.rectangle(image,(x,y),(x+w,y+h),(127,0,255),6)\n",
    "        #cv2.imshow('face detected',image)\n",
    "        #cv2.waitKey()\n",
    "        roi_gray=gray[y:y+h,x:x+w]\n",
    "        roi_color=image[y:y+h,x:x+w]\n",
    "        eyes=eye_classifier.detectMultiScale(roi_gray)\n",
    "        for(ex,ey,ew,eh) in eyes:\n",
    "            cv2.rectangle(roi_color,(ex,ey),(ex+ew,ey+eh),(255,255,0),2)\n",
    "    roi_color=cv2.flip(image,1)\n",
    "    return roi_color\n",
    "\n",
    "\n",
    "capture=cv2.VideoCapture(0)\n",
    "while True:\n",
    "    ret,frame=capture.read()\n",
    "    cv2.imshow('live face detector',face_detector_live(frame))\n",
    "    if cv2.waitKey(1)==13:\n",
    "        break\n",
    "        \n",
    "capture.release()\n",
    "cv2.destroyAllWindows()\n",
    "\n",
    "\n",
    "            "
   ]
  },
  {
   "cell_type": "code",
   "execution_count": null,
   "id": "45fff275",
   "metadata": {},
   "outputs": [],
   "source": []
  }
 ],
 "metadata": {
  "kernelspec": {
   "display_name": "Python 3 (ipykernel)",
   "language": "python",
   "name": "python3"
  },
  "language_info": {
   "codemirror_mode": {
    "name": "ipython",
    "version": 3
   },
   "file_extension": ".py",
   "mimetype": "text/x-python",
   "name": "python",
   "nbconvert_exporter": "python",
   "pygments_lexer": "ipython3",
   "version": "3.9.7"
  }
 },
 "nbformat": 4,
 "nbformat_minor": 5
}
